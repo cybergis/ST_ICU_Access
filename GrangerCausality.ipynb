{
 "cells": [
  {
   "cell_type": "code",
   "execution_count": 1,
   "id": "split-mapping",
   "metadata": {},
   "outputs": [],
   "source": [
    "import geopandas as gpd\n",
    "import matplotlib.pyplot as plt\n",
    "import numpy as np\n",
    "import pandas as pd\n",
    "from scipy.stats import pearsonr, spearmanr\n",
    "from statsmodels.tsa.stattools import adfuller, kpss, grangercausalitytests\n",
    "from tqdm import tqdm"
   ]
  },
  {
   "cell_type": "markdown",
   "id": "accepted-vessel",
   "metadata": {},
   "source": [
    "# Data"
   ]
  },
  {
   "cell_type": "code",
   "execution_count": 2,
   "id": "proper-signature",
   "metadata": {},
   "outputs": [
    {
     "data": {
      "text/html": [
       "<div>\n",
       "<style scoped>\n",
       "    .dataframe tbody tr th:only-of-type {\n",
       "        vertical-align: middle;\n",
       "    }\n",
       "\n",
       "    .dataframe tbody tr th {\n",
       "        vertical-align: top;\n",
       "    }\n",
       "\n",
       "    .dataframe thead th {\n",
       "        text-align: right;\n",
       "    }\n",
       "</style>\n",
       "<table border=\"1\" class=\"dataframe\">\n",
       "  <thead>\n",
       "    <tr style=\"text-align: right;\">\n",
       "      <th></th>\n",
       "      <th>index</th>\n",
       "      <th>NAME</th>\n",
       "      <th>06/01/2020</th>\n",
       "      <th>06/02/2020</th>\n",
       "      <th>06/03/2020</th>\n",
       "      <th>06/04/2020</th>\n",
       "      <th>06/05/2020</th>\n",
       "      <th>06/06/2020</th>\n",
       "      <th>06/07/2020</th>\n",
       "      <th>06/08/2020</th>\n",
       "      <th>...</th>\n",
       "      <th>12/23/2021</th>\n",
       "      <th>12/24/2021</th>\n",
       "      <th>12/25/2021</th>\n",
       "      <th>12/26/2021</th>\n",
       "      <th>12/27/2021</th>\n",
       "      <th>12/28/2021</th>\n",
       "      <th>12/29/2021</th>\n",
       "      <th>12/30/2021</th>\n",
       "      <th>12/31/2021</th>\n",
       "      <th>geometry</th>\n",
       "    </tr>\n",
       "  </thead>\n",
       "  <tbody>\n",
       "    <tr>\n",
       "      <th>0</th>\n",
       "      <td>48327</td>\n",
       "      <td>Menard</td>\n",
       "      <td>0.481450</td>\n",
       "      <td>0.504673</td>\n",
       "      <td>0.494921</td>\n",
       "      <td>0.359804</td>\n",
       "      <td>0.380861</td>\n",
       "      <td>0.416848</td>\n",
       "      <td>0.445366</td>\n",
       "      <td>0.463968</td>\n",
       "      <td>...</td>\n",
       "      <td>0.057078</td>\n",
       "      <td>0.055447</td>\n",
       "      <td>0.057775</td>\n",
       "      <td>0.058969</td>\n",
       "      <td>0.056747</td>\n",
       "      <td>0.050579</td>\n",
       "      <td>0.046795</td>\n",
       "      <td>0.044798</td>\n",
       "      <td>0.042296</td>\n",
       "      <td>POLYGON ((-99.77120 30.71079, -99.78240 30.710...</td>\n",
       "    </tr>\n",
       "    <tr>\n",
       "      <th>1</th>\n",
       "      <td>48189</td>\n",
       "      <td>Hale</td>\n",
       "      <td>2.661175</td>\n",
       "      <td>2.398550</td>\n",
       "      <td>2.288703</td>\n",
       "      <td>0.672046</td>\n",
       "      <td>0.550668</td>\n",
       "      <td>0.580442</td>\n",
       "      <td>0.673039</td>\n",
       "      <td>0.691939</td>\n",
       "      <td>...</td>\n",
       "      <td>0.007549</td>\n",
       "      <td>0.006805</td>\n",
       "      <td>0.006247</td>\n",
       "      <td>0.005544</td>\n",
       "      <td>0.004431</td>\n",
       "      <td>0.004738</td>\n",
       "      <td>0.004571</td>\n",
       "      <td>0.004513</td>\n",
       "      <td>0.003913</td>\n",
       "      <td>POLYGON ((-101.73504 33.82864, -101.73507 33.8...</td>\n",
       "    </tr>\n",
       "    <tr>\n",
       "      <th>2</th>\n",
       "      <td>48011</td>\n",
       "      <td>Armstrong</td>\n",
       "      <td>0.008839</td>\n",
       "      <td>0.008874</td>\n",
       "      <td>0.009701</td>\n",
       "      <td>0.009687</td>\n",
       "      <td>0.008540</td>\n",
       "      <td>0.009005</td>\n",
       "      <td>0.009563</td>\n",
       "      <td>0.009912</td>\n",
       "      <td>...</td>\n",
       "      <td>0.001716</td>\n",
       "      <td>0.001967</td>\n",
       "      <td>0.002158</td>\n",
       "      <td>0.002462</td>\n",
       "      <td>0.002360</td>\n",
       "      <td>0.002270</td>\n",
       "      <td>0.002396</td>\n",
       "      <td>0.002478</td>\n",
       "      <td>0.002131</td>\n",
       "      <td>POLYGON ((-101.08728 35.02708, -101.08729 35.0...</td>\n",
       "    </tr>\n",
       "    <tr>\n",
       "      <th>3</th>\n",
       "      <td>48057</td>\n",
       "      <td>Calhoun</td>\n",
       "      <td>2.364419</td>\n",
       "      <td>1.663282</td>\n",
       "      <td>1.490708</td>\n",
       "      <td>0.618558</td>\n",
       "      <td>0.560262</td>\n",
       "      <td>0.519041</td>\n",
       "      <td>0.482546</td>\n",
       "      <td>0.417936</td>\n",
       "      <td>...</td>\n",
       "      <td>0.138889</td>\n",
       "      <td>0.120955</td>\n",
       "      <td>0.109047</td>\n",
       "      <td>0.109674</td>\n",
       "      <td>0.100102</td>\n",
       "      <td>0.084663</td>\n",
       "      <td>0.076442</td>\n",
       "      <td>0.073078</td>\n",
       "      <td>0.062078</td>\n",
       "      <td>POLYGON ((-96.35229 28.50953, -96.35241 28.508...</td>\n",
       "    </tr>\n",
       "    <tr>\n",
       "      <th>4</th>\n",
       "      <td>48077</td>\n",
       "      <td>Clay</td>\n",
       "      <td>1.756416</td>\n",
       "      <td>1.993939</td>\n",
       "      <td>1.554681</td>\n",
       "      <td>0.504286</td>\n",
       "      <td>0.399408</td>\n",
       "      <td>0.381449</td>\n",
       "      <td>0.362439</td>\n",
       "      <td>0.333911</td>\n",
       "      <td>...</td>\n",
       "      <td>0.001702</td>\n",
       "      <td>0.002336</td>\n",
       "      <td>0.003988</td>\n",
       "      <td>0.003731</td>\n",
       "      <td>0.004190</td>\n",
       "      <td>0.003748</td>\n",
       "      <td>0.004242</td>\n",
       "      <td>0.005163</td>\n",
       "      <td>0.004003</td>\n",
       "      <td>POLYGON ((-97.97784 33.81417, -97.97784 33.813...</td>\n",
       "    </tr>\n",
       "  </tbody>\n",
       "</table>\n",
       "<p>5 rows × 582 columns</p>\n",
       "</div>"
      ],
      "text/plain": [
       "   index       NAME  06/01/2020  06/02/2020  06/03/2020  06/04/2020  \\\n",
       "0  48327     Menard    0.481450    0.504673    0.494921    0.359804   \n",
       "1  48189       Hale    2.661175    2.398550    2.288703    0.672046   \n",
       "2  48011  Armstrong    0.008839    0.008874    0.009701    0.009687   \n",
       "3  48057    Calhoun    2.364419    1.663282    1.490708    0.618558   \n",
       "4  48077       Clay    1.756416    1.993939    1.554681    0.504286   \n",
       "\n",
       "   06/05/2020  06/06/2020  06/07/2020  06/08/2020  ...  12/23/2021  \\\n",
       "0    0.380861    0.416848    0.445366    0.463968  ...    0.057078   \n",
       "1    0.550668    0.580442    0.673039    0.691939  ...    0.007549   \n",
       "2    0.008540    0.009005    0.009563    0.009912  ...    0.001716   \n",
       "3    0.560262    0.519041    0.482546    0.417936  ...    0.138889   \n",
       "4    0.399408    0.381449    0.362439    0.333911  ...    0.001702   \n",
       "\n",
       "   12/24/2021  12/25/2021  12/26/2021  12/27/2021  12/28/2021  12/29/2021  \\\n",
       "0    0.055447    0.057775    0.058969    0.056747    0.050579    0.046795   \n",
       "1    0.006805    0.006247    0.005544    0.004431    0.004738    0.004571   \n",
       "2    0.001967    0.002158    0.002462    0.002360    0.002270    0.002396   \n",
       "3    0.120955    0.109047    0.109674    0.100102    0.084663    0.076442   \n",
       "4    0.002336    0.003988    0.003731    0.004190    0.003748    0.004242   \n",
       "\n",
       "   12/30/2021  12/31/2021                                           geometry  \n",
       "0    0.044798    0.042296  POLYGON ((-99.77120 30.71079, -99.78240 30.710...  \n",
       "1    0.004513    0.003913  POLYGON ((-101.73504 33.82864, -101.73507 33.8...  \n",
       "2    0.002478    0.002131  POLYGON ((-101.08728 35.02708, -101.08729 35.0...  \n",
       "3    0.073078    0.062078  POLYGON ((-96.35229 28.50953, -96.35241 28.508...  \n",
       "4    0.005163    0.004003  POLYGON ((-97.97784 33.81417, -97.97784 33.813...  \n",
       "\n",
       "[5 rows x 582 columns]"
      ]
     },
     "execution_count": 2,
     "metadata": {},
     "output_type": "execute_result"
    }
   ],
   "source": [
    "access = gpd.read_file(\"./data/processed_data/ICU_access_measures/ICU_access_county.shp\")\n",
    "access.head()"
   ]
  },
  {
   "cell_type": "code",
   "execution_count": 3,
   "id": "animated-namibia",
   "metadata": {},
   "outputs": [
    {
     "data": {
      "text/html": [
       "<div>\n",
       "<style scoped>\n",
       "    .dataframe tbody tr th:only-of-type {\n",
       "        vertical-align: middle;\n",
       "    }\n",
       "\n",
       "    .dataframe tbody tr th {\n",
       "        vertical-align: top;\n",
       "    }\n",
       "\n",
       "    .dataframe thead th {\n",
       "        text-align: right;\n",
       "    }\n",
       "</style>\n",
       "<table border=\"1\" class=\"dataframe\">\n",
       "  <thead>\n",
       "    <tr style=\"text-align: right;\">\n",
       "      <th></th>\n",
       "      <th>index</th>\n",
       "      <th>NAME</th>\n",
       "      <th>06/01/2020</th>\n",
       "      <th>06/02/2020</th>\n",
       "      <th>06/03/2020</th>\n",
       "      <th>06/04/2020</th>\n",
       "      <th>06/05/2020</th>\n",
       "      <th>06/06/2020</th>\n",
       "      <th>06/07/2020</th>\n",
       "      <th>06/08/2020</th>\n",
       "      <th>...</th>\n",
       "      <th>12/24/2021</th>\n",
       "      <th>12/25/2021</th>\n",
       "      <th>12/26/2021</th>\n",
       "      <th>12/27/2021</th>\n",
       "      <th>12/28/2021</th>\n",
       "      <th>12/29/2021</th>\n",
       "      <th>12/30/2021</th>\n",
       "      <th>12/31/2021</th>\n",
       "      <th>TSA</th>\n",
       "      <th>geometry</th>\n",
       "    </tr>\n",
       "  </thead>\n",
       "  <tbody>\n",
       "    <tr>\n",
       "      <th>0</th>\n",
       "      <td>48327</td>\n",
       "      <td>Menard</td>\n",
       "      <td>0.0</td>\n",
       "      <td>0.0</td>\n",
       "      <td>0.0</td>\n",
       "      <td>0.0</td>\n",
       "      <td>0.0</td>\n",
       "      <td>0.0</td>\n",
       "      <td>0.0</td>\n",
       "      <td>0.0</td>\n",
       "      <td>...</td>\n",
       "      <td>0.000000</td>\n",
       "      <td>0.0</td>\n",
       "      <td>0.000000</td>\n",
       "      <td>0.000000</td>\n",
       "      <td>0.000000</td>\n",
       "      <td>0.000000</td>\n",
       "      <td>0.000000</td>\n",
       "      <td>0.000000</td>\n",
       "      <td>K</td>\n",
       "      <td>POLYGON ((-99.77120 30.71079, -99.78240 30.710...</td>\n",
       "    </tr>\n",
       "    <tr>\n",
       "      <th>1</th>\n",
       "      <td>48189</td>\n",
       "      <td>Hale</td>\n",
       "      <td>0.0</td>\n",
       "      <td>0.0</td>\n",
       "      <td>0.0</td>\n",
       "      <td>0.0</td>\n",
       "      <td>0.0</td>\n",
       "      <td>0.0</td>\n",
       "      <td>0.0</td>\n",
       "      <td>125.0</td>\n",
       "      <td>...</td>\n",
       "      <td>71.428571</td>\n",
       "      <td>80.0</td>\n",
       "      <td>75.471698</td>\n",
       "      <td>59.701493</td>\n",
       "      <td>60.606061</td>\n",
       "      <td>32.786885</td>\n",
       "      <td>52.631579</td>\n",
       "      <td>104.166667</td>\n",
       "      <td>B</td>\n",
       "      <td>POLYGON ((-101.73504 33.82864, -101.73507 33.8...</td>\n",
       "    </tr>\n",
       "    <tr>\n",
       "      <th>2</th>\n",
       "      <td>48011</td>\n",
       "      <td>Armstrong</td>\n",
       "      <td>0.0</td>\n",
       "      <td>0.0</td>\n",
       "      <td>0.0</td>\n",
       "      <td>0.0</td>\n",
       "      <td>0.0</td>\n",
       "      <td>0.0</td>\n",
       "      <td>0.0</td>\n",
       "      <td>0.0</td>\n",
       "      <td>...</td>\n",
       "      <td>0.000000</td>\n",
       "      <td>0.0</td>\n",
       "      <td>0.000000</td>\n",
       "      <td>0.000000</td>\n",
       "      <td>0.000000</td>\n",
       "      <td>0.000000</td>\n",
       "      <td>0.000000</td>\n",
       "      <td>0.000000</td>\n",
       "      <td>A</td>\n",
       "      <td>POLYGON ((-101.08728 35.02708, -101.08729 35.0...</td>\n",
       "    </tr>\n",
       "    <tr>\n",
       "      <th>3</th>\n",
       "      <td>48057</td>\n",
       "      <td>Calhoun</td>\n",
       "      <td>0.0</td>\n",
       "      <td>0.0</td>\n",
       "      <td>0.0</td>\n",
       "      <td>0.0</td>\n",
       "      <td>0.0</td>\n",
       "      <td>0.0</td>\n",
       "      <td>0.0</td>\n",
       "      <td>0.0</td>\n",
       "      <td>...</td>\n",
       "      <td>0.000000</td>\n",
       "      <td>0.0</td>\n",
       "      <td>0.000000</td>\n",
       "      <td>0.000000</td>\n",
       "      <td>0.000000</td>\n",
       "      <td>100.000000</td>\n",
       "      <td>100.000000</td>\n",
       "      <td>100.000000</td>\n",
       "      <td>S</td>\n",
       "      <td>POLYGON ((-96.35229 28.50953, -96.35241 28.508...</td>\n",
       "    </tr>\n",
       "    <tr>\n",
       "      <th>4</th>\n",
       "      <td>48077</td>\n",
       "      <td>Clay</td>\n",
       "      <td>0.0</td>\n",
       "      <td>0.0</td>\n",
       "      <td>0.0</td>\n",
       "      <td>0.0</td>\n",
       "      <td>0.0</td>\n",
       "      <td>0.0</td>\n",
       "      <td>0.0</td>\n",
       "      <td>0.0</td>\n",
       "      <td>...</td>\n",
       "      <td>0.000000</td>\n",
       "      <td>0.0</td>\n",
       "      <td>0.000000</td>\n",
       "      <td>0.000000</td>\n",
       "      <td>0.000000</td>\n",
       "      <td>0.000000</td>\n",
       "      <td>0.000000</td>\n",
       "      <td>0.000000</td>\n",
       "      <td>C</td>\n",
       "      <td>POLYGON ((-97.97784 33.81417, -97.97784 33.813...</td>\n",
       "    </tr>\n",
       "  </tbody>\n",
       "</table>\n",
       "<p>5 rows × 583 columns</p>\n",
       "</div>"
      ],
      "text/plain": [
       "   index       NAME  06/01/2020  06/02/2020  06/03/2020  06/04/2020  \\\n",
       "0  48327     Menard         0.0         0.0         0.0         0.0   \n",
       "1  48189       Hale         0.0         0.0         0.0         0.0   \n",
       "2  48011  Armstrong         0.0         0.0         0.0         0.0   \n",
       "3  48057    Calhoun         0.0         0.0         0.0         0.0   \n",
       "4  48077       Clay         0.0         0.0         0.0         0.0   \n",
       "\n",
       "   06/05/2020  06/06/2020  06/07/2020  06/08/2020  ...  12/24/2021  \\\n",
       "0         0.0         0.0         0.0         0.0  ...    0.000000   \n",
       "1         0.0         0.0         0.0       125.0  ...   71.428571   \n",
       "2         0.0         0.0         0.0         0.0  ...    0.000000   \n",
       "3         0.0         0.0         0.0         0.0  ...    0.000000   \n",
       "4         0.0         0.0         0.0         0.0  ...    0.000000   \n",
       "\n",
       "   12/25/2021  12/26/2021  12/27/2021  12/28/2021  12/29/2021  12/30/2021  \\\n",
       "0         0.0    0.000000    0.000000    0.000000    0.000000    0.000000   \n",
       "1        80.0   75.471698   59.701493   60.606061   32.786885   52.631579   \n",
       "2         0.0    0.000000    0.000000    0.000000    0.000000    0.000000   \n",
       "3         0.0    0.000000    0.000000    0.000000  100.000000  100.000000   \n",
       "4         0.0    0.000000    0.000000    0.000000    0.000000    0.000000   \n",
       "\n",
       "   12/31/2021  TSA                                           geometry  \n",
       "0    0.000000    K  POLYGON ((-99.77120 30.71079, -99.78240 30.710...  \n",
       "1  104.166667    B  POLYGON ((-101.73504 33.82864, -101.73507 33.8...  \n",
       "2    0.000000    A  POLYGON ((-101.08728 35.02708, -101.08729 35.0...  \n",
       "3  100.000000    S  POLYGON ((-96.35229 28.50953, -96.35241 28.508...  \n",
       "4    0.000000    C  POLYGON ((-97.97784 33.81417, -97.97784 33.813...  \n",
       "\n",
       "[5 rows x 583 columns]"
      ]
     },
     "execution_count": 3,
     "metadata": {},
     "output_type": "execute_result"
    }
   ],
   "source": [
    "death = gpd.read_file(\"./data/processed_data/relationship/seven_day_ratio.shp\")\n",
    "death.head()"
   ]
  },
  {
   "cell_type": "markdown",
   "id": "humanitarian-congo",
   "metadata": {},
   "source": [
    "# Pearson"
   ]
  },
  {
   "cell_type": "code",
   "execution_count": 4,
   "id": "false-concentrate",
   "metadata": {
    "scrolled": false
   },
   "outputs": [
    {
     "name": "stderr",
     "output_type": "stream",
     "text": [
      "  0%|          | 0/254 [00:00<?, ?it/s]/home/dijkstra/.local/lib/python3.8/site-packages/scipy/stats/stats.py:3845: PearsonRConstantInputWarning: An input array is constant; the correlation coefficent is not defined.\n",
      "  warnings.warn(PearsonRConstantInputWarning())\n",
      "100%|██████████| 254/254 [00:01<00:00, 154.04it/s]\n"
     ]
    }
   ],
   "source": [
    "pearson_dict = dict()\n",
    "for ind in tqdm(access[\"index\"], position=0):\n",
    "    acc_ts = access.loc[access[\"index\"] == ind].copy(deep=True)\n",
    "    assert len(acc_ts) == 1\n",
    "    acc_ts = acc_ts.drop(columns=[\"index\", \"NAME\", \"geometry\"])\n",
    "    acc_ts = acc_ts.T\n",
    "    acc_ts.columns = [\"access\"]\n",
    "    # print(type(acc_ts))\n",
    "    # acc_ts.head()\n",
    "\n",
    "    death_ts = death.loc[death[\"index\"] == ind].copy(deep=True)\n",
    "    assert len(death_ts) == 1\n",
    "    death_ts = death_ts.drop(columns=[\"index\", \"NAME\", \"TSA\", \"geometry\"])\n",
    "    # print(list(death_ts.columns))\n",
    "    death_ts = death_ts.T\n",
    "    death_ts.columns = [\"death\"]\n",
    "    # print(type(death_ts))\n",
    "    # death_ts.head()\n",
    "\n",
    "    # need to make the data stationary\n",
    "    # https://stackoverflow.com/questions/51772493/understanding-output-from-statsmodels-grangercausalitytests\n",
    "    # https://en.wikipedia.org/wiki/Granger_causality#Method\n",
    "    #data = acc_ts.join(death_ts)\n",
    "    #print(len(data))\n",
    "    x = acc_ts[\"access\"]\n",
    "    y = death_ts[\"death\"]\n",
    "    pearr, pearp = pearsonr(x, y)\n",
    "    pearson_dict[ind] = dict()\n",
    "    pearson_dict[ind][\"coef\"] = pearr\n",
    "    pearson_dict[ind][\"pval\"] = pearp"
   ]
  },
  {
   "cell_type": "code",
   "execution_count": 5,
   "id": "numerous-tactics",
   "metadata": {},
   "outputs": [
    {
     "data": {
      "text/html": [
       "<div>\n",
       "<style scoped>\n",
       "    .dataframe tbody tr th:only-of-type {\n",
       "        vertical-align: middle;\n",
       "    }\n",
       "\n",
       "    .dataframe tbody tr th {\n",
       "        vertical-align: top;\n",
       "    }\n",
       "\n",
       "    .dataframe thead th {\n",
       "        text-align: right;\n",
       "    }\n",
       "</style>\n",
       "<table border=\"1\" class=\"dataframe\">\n",
       "  <thead>\n",
       "    <tr style=\"text-align: right;\">\n",
       "      <th></th>\n",
       "      <th>index</th>\n",
       "      <th>coefs</th>\n",
       "      <th>pvals</th>\n",
       "    </tr>\n",
       "  </thead>\n",
       "  <tbody>\n",
       "    <tr>\n",
       "      <th>0</th>\n",
       "      <td>48327</td>\n",
       "      <td>-0.121403</td>\n",
       "      <td>0.003436</td>\n",
       "    </tr>\n",
       "    <tr>\n",
       "      <th>1</th>\n",
       "      <td>48189</td>\n",
       "      <td>-0.001198</td>\n",
       "      <td>0.977050</td>\n",
       "    </tr>\n",
       "    <tr>\n",
       "      <th>2</th>\n",
       "      <td>48011</td>\n",
       "      <td>0.080030</td>\n",
       "      <td>0.054273</td>\n",
       "    </tr>\n",
       "    <tr>\n",
       "      <th>3</th>\n",
       "      <td>48057</td>\n",
       "      <td>-0.046674</td>\n",
       "      <td>0.262175</td>\n",
       "    </tr>\n",
       "    <tr>\n",
       "      <th>4</th>\n",
       "      <td>48077</td>\n",
       "      <td>-0.031332</td>\n",
       "      <td>0.451760</td>\n",
       "    </tr>\n",
       "  </tbody>\n",
       "</table>\n",
       "</div>"
      ],
      "text/plain": [
       "   index     coefs     pvals\n",
       "0  48327 -0.121403  0.003436\n",
       "1  48189 -0.001198  0.977050\n",
       "2  48011  0.080030  0.054273\n",
       "3  48057 -0.046674  0.262175\n",
       "4  48077 -0.031332  0.451760"
      ]
     },
     "execution_count": 5,
     "metadata": {},
     "output_type": "execute_result"
    }
   ],
   "source": [
    "coefs = [pearson_dict[ind][\"coef\"] for ind in access[\"index\"]]\n",
    "pvals = [pearson_dict[ind][\"pval\"] for ind in access[\"index\"]]\n",
    "pearson_df = pd.DataFrame({\"index\": access[\"index\"], \"coefs\": coefs, \"pvals\": pvals})\n",
    "pearson_df.head()"
   ]
  },
  {
   "cell_type": "code",
   "execution_count": 6,
   "id": "commercial-coaching",
   "metadata": {
    "scrolled": false
   },
   "outputs": [
    {
     "data": {
      "text/html": [
       "<div>\n",
       "<style scoped>\n",
       "    .dataframe tbody tr th:only-of-type {\n",
       "        vertical-align: middle;\n",
       "    }\n",
       "\n",
       "    .dataframe tbody tr th {\n",
       "        vertical-align: top;\n",
       "    }\n",
       "\n",
       "    .dataframe thead th {\n",
       "        text-align: right;\n",
       "    }\n",
       "</style>\n",
       "<table border=\"1\" class=\"dataframe\">\n",
       "  <thead>\n",
       "    <tr style=\"text-align: right;\">\n",
       "      <th></th>\n",
       "      <th>index</th>\n",
       "      <th>NAME</th>\n",
       "      <th>06/01/2020</th>\n",
       "      <th>06/02/2020</th>\n",
       "      <th>06/03/2020</th>\n",
       "      <th>06/04/2020</th>\n",
       "      <th>06/05/2020</th>\n",
       "      <th>06/06/2020</th>\n",
       "      <th>06/07/2020</th>\n",
       "      <th>06/08/2020</th>\n",
       "      <th>...</th>\n",
       "      <th>12/25/2021</th>\n",
       "      <th>12/26/2021</th>\n",
       "      <th>12/27/2021</th>\n",
       "      <th>12/28/2021</th>\n",
       "      <th>12/29/2021</th>\n",
       "      <th>12/30/2021</th>\n",
       "      <th>12/31/2021</th>\n",
       "      <th>geometry</th>\n",
       "      <th>coefs</th>\n",
       "      <th>pvals</th>\n",
       "    </tr>\n",
       "  </thead>\n",
       "  <tbody>\n",
       "    <tr>\n",
       "      <th>0</th>\n",
       "      <td>48327</td>\n",
       "      <td>Menard</td>\n",
       "      <td>0.481450</td>\n",
       "      <td>0.504673</td>\n",
       "      <td>0.494921</td>\n",
       "      <td>0.359804</td>\n",
       "      <td>0.380861</td>\n",
       "      <td>0.416848</td>\n",
       "      <td>0.445366</td>\n",
       "      <td>0.463968</td>\n",
       "      <td>...</td>\n",
       "      <td>0.057775</td>\n",
       "      <td>0.058969</td>\n",
       "      <td>0.056747</td>\n",
       "      <td>0.050579</td>\n",
       "      <td>0.046795</td>\n",
       "      <td>0.044798</td>\n",
       "      <td>0.042296</td>\n",
       "      <td>POLYGON ((-99.77120 30.71079, -99.78240 30.710...</td>\n",
       "      <td>-0.121403</td>\n",
       "      <td>0.003436</td>\n",
       "    </tr>\n",
       "    <tr>\n",
       "      <th>1</th>\n",
       "      <td>48189</td>\n",
       "      <td>Hale</td>\n",
       "      <td>2.661175</td>\n",
       "      <td>2.398550</td>\n",
       "      <td>2.288703</td>\n",
       "      <td>0.672046</td>\n",
       "      <td>0.550668</td>\n",
       "      <td>0.580442</td>\n",
       "      <td>0.673039</td>\n",
       "      <td>0.691939</td>\n",
       "      <td>...</td>\n",
       "      <td>0.006247</td>\n",
       "      <td>0.005544</td>\n",
       "      <td>0.004431</td>\n",
       "      <td>0.004738</td>\n",
       "      <td>0.004571</td>\n",
       "      <td>0.004513</td>\n",
       "      <td>0.003913</td>\n",
       "      <td>POLYGON ((-101.73504 33.82864, -101.73507 33.8...</td>\n",
       "      <td>-0.001198</td>\n",
       "      <td>0.977050</td>\n",
       "    </tr>\n",
       "    <tr>\n",
       "      <th>2</th>\n",
       "      <td>48011</td>\n",
       "      <td>Armstrong</td>\n",
       "      <td>0.008839</td>\n",
       "      <td>0.008874</td>\n",
       "      <td>0.009701</td>\n",
       "      <td>0.009687</td>\n",
       "      <td>0.008540</td>\n",
       "      <td>0.009005</td>\n",
       "      <td>0.009563</td>\n",
       "      <td>0.009912</td>\n",
       "      <td>...</td>\n",
       "      <td>0.002158</td>\n",
       "      <td>0.002462</td>\n",
       "      <td>0.002360</td>\n",
       "      <td>0.002270</td>\n",
       "      <td>0.002396</td>\n",
       "      <td>0.002478</td>\n",
       "      <td>0.002131</td>\n",
       "      <td>POLYGON ((-101.08728 35.02708, -101.08729 35.0...</td>\n",
       "      <td>0.080030</td>\n",
       "      <td>0.054273</td>\n",
       "    </tr>\n",
       "    <tr>\n",
       "      <th>3</th>\n",
       "      <td>48057</td>\n",
       "      <td>Calhoun</td>\n",
       "      <td>2.364419</td>\n",
       "      <td>1.663282</td>\n",
       "      <td>1.490708</td>\n",
       "      <td>0.618558</td>\n",
       "      <td>0.560262</td>\n",
       "      <td>0.519041</td>\n",
       "      <td>0.482546</td>\n",
       "      <td>0.417936</td>\n",
       "      <td>...</td>\n",
       "      <td>0.109047</td>\n",
       "      <td>0.109674</td>\n",
       "      <td>0.100102</td>\n",
       "      <td>0.084663</td>\n",
       "      <td>0.076442</td>\n",
       "      <td>0.073078</td>\n",
       "      <td>0.062078</td>\n",
       "      <td>POLYGON ((-96.35229 28.50953, -96.35241 28.508...</td>\n",
       "      <td>-0.046674</td>\n",
       "      <td>0.262175</td>\n",
       "    </tr>\n",
       "    <tr>\n",
       "      <th>4</th>\n",
       "      <td>48077</td>\n",
       "      <td>Clay</td>\n",
       "      <td>1.756416</td>\n",
       "      <td>1.993939</td>\n",
       "      <td>1.554681</td>\n",
       "      <td>0.504286</td>\n",
       "      <td>0.399408</td>\n",
       "      <td>0.381449</td>\n",
       "      <td>0.362439</td>\n",
       "      <td>0.333911</td>\n",
       "      <td>...</td>\n",
       "      <td>0.003988</td>\n",
       "      <td>0.003731</td>\n",
       "      <td>0.004190</td>\n",
       "      <td>0.003748</td>\n",
       "      <td>0.004242</td>\n",
       "      <td>0.005163</td>\n",
       "      <td>0.004003</td>\n",
       "      <td>POLYGON ((-97.97784 33.81417, -97.97784 33.813...</td>\n",
       "      <td>-0.031332</td>\n",
       "      <td>0.451760</td>\n",
       "    </tr>\n",
       "  </tbody>\n",
       "</table>\n",
       "<p>5 rows × 584 columns</p>\n",
       "</div>"
      ],
      "text/plain": [
       "   index       NAME  06/01/2020  06/02/2020  06/03/2020  06/04/2020  \\\n",
       "0  48327     Menard    0.481450    0.504673    0.494921    0.359804   \n",
       "1  48189       Hale    2.661175    2.398550    2.288703    0.672046   \n",
       "2  48011  Armstrong    0.008839    0.008874    0.009701    0.009687   \n",
       "3  48057    Calhoun    2.364419    1.663282    1.490708    0.618558   \n",
       "4  48077       Clay    1.756416    1.993939    1.554681    0.504286   \n",
       "\n",
       "   06/05/2020  06/06/2020  06/07/2020  06/08/2020  ...  12/25/2021  \\\n",
       "0    0.380861    0.416848    0.445366    0.463968  ...    0.057775   \n",
       "1    0.550668    0.580442    0.673039    0.691939  ...    0.006247   \n",
       "2    0.008540    0.009005    0.009563    0.009912  ...    0.002158   \n",
       "3    0.560262    0.519041    0.482546    0.417936  ...    0.109047   \n",
       "4    0.399408    0.381449    0.362439    0.333911  ...    0.003988   \n",
       "\n",
       "   12/26/2021  12/27/2021  12/28/2021  12/29/2021  12/30/2021  12/31/2021  \\\n",
       "0    0.058969    0.056747    0.050579    0.046795    0.044798    0.042296   \n",
       "1    0.005544    0.004431    0.004738    0.004571    0.004513    0.003913   \n",
       "2    0.002462    0.002360    0.002270    0.002396    0.002478    0.002131   \n",
       "3    0.109674    0.100102    0.084663    0.076442    0.073078    0.062078   \n",
       "4    0.003731    0.004190    0.003748    0.004242    0.005163    0.004003   \n",
       "\n",
       "                                            geometry     coefs     pvals  \n",
       "0  POLYGON ((-99.77120 30.71079, -99.78240 30.710... -0.121403  0.003436  \n",
       "1  POLYGON ((-101.73504 33.82864, -101.73507 33.8... -0.001198  0.977050  \n",
       "2  POLYGON ((-101.08728 35.02708, -101.08729 35.0...  0.080030  0.054273  \n",
       "3  POLYGON ((-96.35229 28.50953, -96.35241 28.508... -0.046674  0.262175  \n",
       "4  POLYGON ((-97.97784 33.81417, -97.97784 33.813... -0.031332  0.451760  \n",
       "\n",
       "[5 rows x 584 columns]"
      ]
     },
     "execution_count": 6,
     "metadata": {},
     "output_type": "execute_result"
    }
   ],
   "source": [
    "pearson_gdf = access.copy(deep=True)\n",
    "pearson_gdf = pearson_gdf.merge(pearson_df, on=\"index\")\n",
    "pearson_gdf.head()"
   ]
  },
  {
   "cell_type": "code",
   "execution_count": 7,
   "id": "seeing-local",
   "metadata": {
    "scrolled": false
   },
   "outputs": [
    {
     "data": {
      "text/plain": [
       "<AxesSubplot:>"
      ]
     },
     "execution_count": 7,
     "metadata": {},
     "output_type": "execute_result"
    },
    {
     "data": {
      "image/png": "[encoded data removed]",
      "text/plain": [
       "<Figure size 720x720 with 2 Axes>"
      ]
     },
     "metadata": {
      "needs_background": "light"
     },
     "output_type": "display_data"
    }
   ],
   "source": [
    "pearson_p05 = pearson_gdf[pearson_gdf[\"pvals\"] <= 0.05]\n",
    "pearson_p05.plot(column=\"coefs\", figsize=(10, 10), legend=True)"
   ]
  },
  {
   "cell_type": "markdown",
   "id": "stupid-overview",
   "metadata": {},
   "source": [
    "# Spearman"
   ]
  },
  {
   "cell_type": "code",
   "execution_count": 8,
   "id": "consolidated-economy",
   "metadata": {
    "scrolled": false
   },
   "outputs": [
    {
     "name": "stderr",
     "output_type": "stream",
     "text": [
      "  0%|          | 0/254 [00:00<?, ?it/s]/home/dijkstra/.local/lib/python3.8/site-packages/scipy/stats/stats.py:4196: SpearmanRConstantInputWarning: An input array is constant; the correlation coefficent is not defined.\n",
      "  warnings.warn(SpearmanRConstantInputWarning())\n",
      "100%|██████████| 254/254 [00:01<00:00, 137.27it/s]\n"
     ]
    }
   ],
   "source": [
    "spearman_dict = dict()\n",
    "for ind in tqdm(access[\"index\"], position=0):\n",
    "    acc_ts = access.loc[access[\"index\"] == ind].copy(deep=True)\n",
    "    assert len(acc_ts) == 1\n",
    "    acc_ts = acc_ts.drop(columns=[\"index\", \"NAME\", \"geometry\"])\n",
    "    acc_ts = acc_ts.T\n",
    "    acc_ts.columns = [\"access\"]\n",
    "    # print(type(acc_ts))\n",
    "    # acc_ts.head()\n",
    "\n",
    "    death_ts = death.loc[death[\"index\"] == ind].copy(deep=True)\n",
    "    assert len(death_ts) == 1\n",
    "    death_ts = death_ts.drop(columns=[\"index\", \"NAME\", \"TSA\", \"geometry\"])\n",
    "    # print(list(death_ts.columns))\n",
    "    death_ts = death_ts.T\n",
    "    death_ts.columns = [\"death\"]\n",
    "    # print(type(death_ts))\n",
    "    # death_ts.head()\n",
    "\n",
    "    # need to make the data stationary\n",
    "    # https://stackoverflow.com/questions/51772493/understanding-output-from-statsmodels-grangercausalitytests\n",
    "    # https://en.wikipedia.org/wiki/Granger_causality#Method\n",
    "    #data = acc_ts.join(death_ts)\n",
    "    #print(len(data))\n",
    "    x = acc_ts[\"access\"]\n",
    "    y = death_ts[\"death\"]\n",
    "    pearr, pearp = spearmanr(x, y)\n",
    "    spearman_dict[ind] = dict()\n",
    "    spearman_dict[ind][\"coef\"] = pearr\n",
    "    spearman_dict[ind][\"pval\"] = pearp"
   ]
  },
  {
   "cell_type": "code",
   "execution_count": 9,
   "id": "tutorial-broadcasting",
   "metadata": {},
   "outputs": [
    {
     "data": {
      "text/html": [
       "<div>\n",
       "<style scoped>\n",
       "    .dataframe tbody tr th:only-of-type {\n",
       "        vertical-align: middle;\n",
       "    }\n",
       "\n",
       "    .dataframe tbody tr th {\n",
       "        vertical-align: top;\n",
       "    }\n",
       "\n",
       "    .dataframe thead th {\n",
       "        text-align: right;\n",
       "    }\n",
       "</style>\n",
       "<table border=\"1\" class=\"dataframe\">\n",
       "  <thead>\n",
       "    <tr style=\"text-align: right;\">\n",
       "      <th></th>\n",
       "      <th>index</th>\n",
       "      <th>coefs</th>\n",
       "      <th>pvals</th>\n",
       "    </tr>\n",
       "  </thead>\n",
       "  <tbody>\n",
       "    <tr>\n",
       "      <th>0</th>\n",
       "      <td>48327</td>\n",
       "      <td>-0.320837</td>\n",
       "      <td>2.500904e-15</td>\n",
       "    </tr>\n",
       "    <tr>\n",
       "      <th>1</th>\n",
       "      <td>48189</td>\n",
       "      <td>-0.190634</td>\n",
       "      <td>3.844360e-06</td>\n",
       "    </tr>\n",
       "    <tr>\n",
       "      <th>2</th>\n",
       "      <td>48011</td>\n",
       "      <td>-0.295428</td>\n",
       "      <td>3.989484e-13</td>\n",
       "    </tr>\n",
       "    <tr>\n",
       "      <th>3</th>\n",
       "      <td>48057</td>\n",
       "      <td>-0.175236</td>\n",
       "      <td>2.231744e-05</td>\n",
       "    </tr>\n",
       "    <tr>\n",
       "      <th>4</th>\n",
       "      <td>48077</td>\n",
       "      <td>-0.385072</td>\n",
       "      <td>6.637880e-22</td>\n",
       "    </tr>\n",
       "  </tbody>\n",
       "</table>\n",
       "</div>"
      ],
      "text/plain": [
       "   index     coefs         pvals\n",
       "0  48327 -0.320837  2.500904e-15\n",
       "1  48189 -0.190634  3.844360e-06\n",
       "2  48011 -0.295428  3.989484e-13\n",
       "3  48057 -0.175236  2.231744e-05\n",
       "4  48077 -0.385072  6.637880e-22"
      ]
     },
     "execution_count": 9,
     "metadata": {},
     "output_type": "execute_result"
    }
   ],
   "source": [
    "coefs = [spearman_dict[ind][\"coef\"] for ind in access[\"index\"]]\n",
    "pvals = [spearman_dict[ind][\"pval\"] for ind in access[\"index\"]]\n",
    "spearman_df = pd.DataFrame({\"index\": access[\"index\"], \"coefs\": coefs, \"pvals\": pvals})\n",
    "spearman_df.head()"
   ]
  },
  {
   "cell_type": "code",
   "execution_count": 10,
   "id": "expired-jason",
   "metadata": {
    "scrolled": false
   },
   "outputs": [
    {
     "data": {
      "text/html": [
       "<div>\n",
       "<style scoped>\n",
       "    .dataframe tbody tr th:only-of-type {\n",
       "        vertical-align: middle;\n",
       "    }\n",
       "\n",
       "    .dataframe tbody tr th {\n",
       "        vertical-align: top;\n",
       "    }\n",
       "\n",
       "    .dataframe thead th {\n",
       "        text-align: right;\n",
       "    }\n",
       "</style>\n",
       "<table border=\"1\" class=\"dataframe\">\n",
       "  <thead>\n",
       "    <tr style=\"text-align: right;\">\n",
       "      <th></th>\n",
       "      <th>index</th>\n",
       "      <th>NAME</th>\n",
       "      <th>06/01/2020</th>\n",
       "      <th>06/02/2020</th>\n",
       "      <th>06/03/2020</th>\n",
       "      <th>06/04/2020</th>\n",
       "      <th>06/05/2020</th>\n",
       "      <th>06/06/2020</th>\n",
       "      <th>06/07/2020</th>\n",
       "      <th>06/08/2020</th>\n",
       "      <th>...</th>\n",
       "      <th>12/25/2021</th>\n",
       "      <th>12/26/2021</th>\n",
       "      <th>12/27/2021</th>\n",
       "      <th>12/28/2021</th>\n",
       "      <th>12/29/2021</th>\n",
       "      <th>12/30/2021</th>\n",
       "      <th>12/31/2021</th>\n",
       "      <th>geometry</th>\n",
       "      <th>coefs</th>\n",
       "      <th>pvals</th>\n",
       "    </tr>\n",
       "  </thead>\n",
       "  <tbody>\n",
       "    <tr>\n",
       "      <th>0</th>\n",
       "      <td>48327</td>\n",
       "      <td>Menard</td>\n",
       "      <td>0.481450</td>\n",
       "      <td>0.504673</td>\n",
       "      <td>0.494921</td>\n",
       "      <td>0.359804</td>\n",
       "      <td>0.380861</td>\n",
       "      <td>0.416848</td>\n",
       "      <td>0.445366</td>\n",
       "      <td>0.463968</td>\n",
       "      <td>...</td>\n",
       "      <td>0.057775</td>\n",
       "      <td>0.058969</td>\n",
       "      <td>0.056747</td>\n",
       "      <td>0.050579</td>\n",
       "      <td>0.046795</td>\n",
       "      <td>0.044798</td>\n",
       "      <td>0.042296</td>\n",
       "      <td>POLYGON ((-99.77120 30.71079, -99.78240 30.710...</td>\n",
       "      <td>-0.320837</td>\n",
       "      <td>2.500904e-15</td>\n",
       "    </tr>\n",
       "    <tr>\n",
       "      <th>1</th>\n",
       "      <td>48189</td>\n",
       "      <td>Hale</td>\n",
       "      <td>2.661175</td>\n",
       "      <td>2.398550</td>\n",
       "      <td>2.288703</td>\n",
       "      <td>0.672046</td>\n",
       "      <td>0.550668</td>\n",
       "      <td>0.580442</td>\n",
       "      <td>0.673039</td>\n",
       "      <td>0.691939</td>\n",
       "      <td>...</td>\n",
       "      <td>0.006247</td>\n",
       "      <td>0.005544</td>\n",
       "      <td>0.004431</td>\n",
       "      <td>0.004738</td>\n",
       "      <td>0.004571</td>\n",
       "      <td>0.004513</td>\n",
       "      <td>0.003913</td>\n",
       "      <td>POLYGON ((-101.73504 33.82864, -101.73507 33.8...</td>\n",
       "      <td>-0.190634</td>\n",
       "      <td>3.844360e-06</td>\n",
       "    </tr>\n",
       "    <tr>\n",
       "      <th>2</th>\n",
       "      <td>48011</td>\n",
       "      <td>Armstrong</td>\n",
       "      <td>0.008839</td>\n",
       "      <td>0.008874</td>\n",
       "      <td>0.009701</td>\n",
       "      <td>0.009687</td>\n",
       "      <td>0.008540</td>\n",
       "      <td>0.009005</td>\n",
       "      <td>0.009563</td>\n",
       "      <td>0.009912</td>\n",
       "      <td>...</td>\n",
       "      <td>0.002158</td>\n",
       "      <td>0.002462</td>\n",
       "      <td>0.002360</td>\n",
       "      <td>0.002270</td>\n",
       "      <td>0.002396</td>\n",
       "      <td>0.002478</td>\n",
       "      <td>0.002131</td>\n",
       "      <td>POLYGON ((-101.08728 35.02708, -101.08729 35.0...</td>\n",
       "      <td>-0.295428</td>\n",
       "      <td>3.989484e-13</td>\n",
       "    </tr>\n",
       "    <tr>\n",
       "      <th>3</th>\n",
       "      <td>48057</td>\n",
       "      <td>Calhoun</td>\n",
       "      <td>2.364419</td>\n",
       "      <td>1.663282</td>\n",
       "      <td>1.490708</td>\n",
       "      <td>0.618558</td>\n",
       "      <td>0.560262</td>\n",
       "      <td>0.519041</td>\n",
       "      <td>0.482546</td>\n",
       "      <td>0.417936</td>\n",
       "      <td>...</td>\n",
       "      <td>0.109047</td>\n",
       "      <td>0.109674</td>\n",
       "      <td>0.100102</td>\n",
       "      <td>0.084663</td>\n",
       "      <td>0.076442</td>\n",
       "      <td>0.073078</td>\n",
       "      <td>0.062078</td>\n",
       "      <td>POLYGON ((-96.35229 28.50953, -96.35241 28.508...</td>\n",
       "      <td>-0.175236</td>\n",
       "      <td>2.231744e-05</td>\n",
       "    </tr>\n",
       "    <tr>\n",
       "      <th>4</th>\n",
       "      <td>48077</td>\n",
       "      <td>Clay</td>\n",
       "      <td>1.756416</td>\n",
       "      <td>1.993939</td>\n",
       "      <td>1.554681</td>\n",
       "      <td>0.504286</td>\n",
       "      <td>0.399408</td>\n",
       "      <td>0.381449</td>\n",
       "      <td>0.362439</td>\n",
       "      <td>0.333911</td>\n",
       "      <td>...</td>\n",
       "      <td>0.003988</td>\n",
       "      <td>0.003731</td>\n",
       "      <td>0.004190</td>\n",
       "      <td>0.003748</td>\n",
       "      <td>0.004242</td>\n",
       "      <td>0.005163</td>\n",
       "      <td>0.004003</td>\n",
       "      <td>POLYGON ((-97.97784 33.81417, -97.97784 33.813...</td>\n",
       "      <td>-0.385072</td>\n",
       "      <td>6.637880e-22</td>\n",
       "    </tr>\n",
       "  </tbody>\n",
       "</table>\n",
       "<p>5 rows × 584 columns</p>\n",
       "</div>"
      ],
      "text/plain": [
       "   index       NAME  06/01/2020  06/02/2020  06/03/2020  06/04/2020  \\\n",
       "0  48327     Menard    0.481450    0.504673    0.494921    0.359804   \n",
       "1  48189       Hale    2.661175    2.398550    2.288703    0.672046   \n",
       "2  48011  Armstrong    0.008839    0.008874    0.009701    0.009687   \n",
       "3  48057    Calhoun    2.364419    1.663282    1.490708    0.618558   \n",
       "4  48077       Clay    1.756416    1.993939    1.554681    0.504286   \n",
       "\n",
       "   06/05/2020  06/06/2020  06/07/2020  06/08/2020  ...  12/25/2021  \\\n",
       "0    0.380861    0.416848    0.445366    0.463968  ...    0.057775   \n",
       "1    0.550668    0.580442    0.673039    0.691939  ...    0.006247   \n",
       "2    0.008540    0.009005    0.009563    0.009912  ...    0.002158   \n",
       "3    0.560262    0.519041    0.482546    0.417936  ...    0.109047   \n",
       "4    0.399408    0.381449    0.362439    0.333911  ...    0.003988   \n",
       "\n",
       "   12/26/2021  12/27/2021  12/28/2021  12/29/2021  12/30/2021  12/31/2021  \\\n",
       "0    0.058969    0.056747    0.050579    0.046795    0.044798    0.042296   \n",
       "1    0.005544    0.004431    0.004738    0.004571    0.004513    0.003913   \n",
       "2    0.002462    0.002360    0.002270    0.002396    0.002478    0.002131   \n",
       "3    0.109674    0.100102    0.084663    0.076442    0.073078    0.062078   \n",
       "4    0.003731    0.004190    0.003748    0.004242    0.005163    0.004003   \n",
       "\n",
       "                                            geometry     coefs         pvals  \n",
       "0  POLYGON ((-99.77120 30.71079, -99.78240 30.710... -0.320837  2.500904e-15  \n",
       "1  POLYGON ((-101.73504 33.82864, -101.73507 33.8... -0.190634  3.844360e-06  \n",
       "2  POLYGON ((-101.08728 35.02708, -101.08729 35.0... -0.295428  3.989484e-13  \n",
       "3  POLYGON ((-96.35229 28.50953, -96.35241 28.508... -0.175236  2.231744e-05  \n",
       "4  POLYGON ((-97.97784 33.81417, -97.97784 33.813... -0.385072  6.637880e-22  \n",
       "\n",
       "[5 rows x 584 columns]"
      ]
     },
     "execution_count": 10,
     "metadata": {},
     "output_type": "execute_result"
    }
   ],
   "source": [
    "spearman_gdf = access.copy(deep=True)\n",
    "spearman_gdf = spearman_gdf.merge(spearman_df, on=\"index\")\n",
    "spearman_gdf.head()"
   ]
  },
  {
   "cell_type": "code",
   "execution_count": 11,
   "id": "systematic-pioneer",
   "metadata": {},
   "outputs": [
    {
     "data": {
      "text/plain": [
       "<AxesSubplot:>"
      ]
     },
     "execution_count": 11,
     "metadata": {},
     "output_type": "execute_result"
    },
    {
     "data": {
      "image/png": "[encoded data removed]",
      "text/plain": [
       "<Figure size 720x720 with 2 Axes>"
      ]
     },
     "metadata": {
      "needs_background": "light"
     },
     "output_type": "display_data"
    }
   ],
   "source": [
    "spearman_p05 = spearman_gdf[spearman_gdf[\"pvals\"] <= 0.05]\n",
    "spearman_p05.plot(column=\"coefs\", figsize=(10, 10), legend=True)"
   ]
  },
  {
   "cell_type": "markdown",
   "id": "indian-qatar",
   "metadata": {},
   "source": [
    "# Granger Causality"
   ]
  },
  {
   "cell_type": "markdown",
   "id": "matched-philosophy",
   "metadata": {},
   "source": [
    "First we have to check for stationarity. We will use the code and suggestions from this [statsmodels example](https://www.statsmodels.org/devel/examples/notebooks/generated/stationarity_detrending_adf_kpss.html). The methods are slightly altered from that guide to include a \"verbose\" argument and to return the p-value."
   ]
  },
  {
   "cell_type": "code",
   "execution_count": 12,
   "id": "recreational-scout",
   "metadata": {},
   "outputs": [],
   "source": [
    "def adf_test(timeseries, verbose=False):\n",
    "    if verbose:\n",
    "        print(\"Results of Dickey-Fuller Test:\")\n",
    "    dftest = adfuller(timeseries, autolag=\"AIC\")\n",
    "    dfoutput = pd.Series(\n",
    "        dftest[0:4],\n",
    "        index=[\n",
    "            \"Test Statistic\",\n",
    "            \"p-value\",\n",
    "            \"#Lags Used\",\n",
    "            \"Number of Observations Used\",\n",
    "        ],\n",
    "    )\n",
    "    for key, value in dftest[4].items():\n",
    "        dfoutput[\"Critical Value (%s)\" % key] = value\n",
    "    if verbose:\n",
    "        print(dfoutput)\n",
    "    return dfoutput[\"p-value\"]"
   ]
  },
  {
   "cell_type": "code",
   "execution_count": 13,
   "id": "intelligent-divide",
   "metadata": {},
   "outputs": [
    {
     "name": "stdout",
     "output_type": "stream",
     "text": [
      "Results of Dickey-Fuller Test:\n",
      "Test Statistic                  -2.954933\n",
      "p-value                          0.039323\n",
      "#Lags Used                      12.000000\n",
      "Number of Observations Used    566.000000\n",
      "Critical Value (1%)             -3.441956\n",
      "Critical Value (5%)             -2.866660\n",
      "Critical Value (10%)            -2.569497\n",
      "dtype: float64\n",
      "0.0393228247375731\n"
     ]
    }
   ],
   "source": [
    "ind = \"48011\"\n",
    "\n",
    "acc_ts = access.loc[access[\"index\"] == ind].copy(deep=True)\n",
    "acc_ts = acc_ts.drop(columns=[\"index\", \"NAME\", \"geometry\"])\n",
    "acc_ts = acc_ts.T\n",
    "acc_ts.columns = [\"access\"]\n",
    "res = adf_test(x, verbose=True)\n",
    "print(res)"
   ]
  },
  {
   "cell_type": "code",
   "execution_count": 14,
   "id": "actual-submission",
   "metadata": {},
   "outputs": [],
   "source": [
    "def kpss_test(timeseries, verbose=False):\n",
    "    if verbose:\n",
    "        print(\"Results of KPSS Test:\")\n",
    "    kpsstest = kpss(timeseries, regression=\"c\", nlags=\"auto\")\n",
    "    kpss_output = pd.Series(\n",
    "        kpsstest[0:3], index=[\"Test Statistic\", \"p-value\", \"Lags Used\"]\n",
    "    )\n",
    "    for key, value in kpsstest[3].items():\n",
    "        kpss_output[\"Critical Value (%s)\" % key] = value\n",
    "    if verbose:\n",
    "        print(kpss_output)\n",
    "    return kpss_output[\"p-value\"]"
   ]
  },
  {
   "cell_type": "code",
   "execution_count": 23,
   "id": "visible-swedish",
   "metadata": {},
   "outputs": [
    {
     "name": "stdout",
     "output_type": "stream",
     "text": [
      "Results of KPSS Test:\n",
      "Test Statistic           0.021259\n",
      "p-value                  0.100000\n",
      "Lags Used                8.000000\n",
      "Critical Value (10%)     0.347000\n",
      "Critical Value (5%)      0.463000\n",
      "Critical Value (2.5%)    0.574000\n",
      "Critical Value (1%)      0.739000\n",
      "dtype: float64\n",
      "0.1\n"
     ]
    }
   ],
   "source": [
    "ind = \"48189\"\n",
    "\n",
    "acc_ts = access.loc[access[\"index\"] == ind].copy(deep=True)\n",
    "acc_ts = acc_ts.drop(columns=[\"index\", \"NAME\", \"geometry\"])\n",
    "acc_ts = acc_ts.T\n",
    "acc_ts.columns = [\"access\"]\n",
    "x = np.diff(x)[1:]\n",
    "# we want p-value to be high.\n",
    "# null hypothesis is that the process is trend stationary\n",
    "res = kpss_test(x, verbose=True)\n",
    "print(res)"
   ]
  },
  {
   "cell_type": "code",
   "execution_count": 24,
   "id": "municipal-bottle",
   "metadata": {},
   "outputs": [
    {
     "data": {
      "text/plain": [
       "[<matplotlib.lines.Line2D at 0x7f69372bf280>]"
      ]
     },
     "execution_count": 24,
     "metadata": {},
     "output_type": "execute_result"
    },
    {
     "data": {
      "image/png": "[encoded data removed]",
      "text/plain": [
       "<Figure size 432x288 with 1 Axes>"
      ]
     },
     "metadata": {
      "needs_background": "light"
     },
     "output_type": "display_data"
    }
   ],
   "source": [
    "plt.plot(x)"
   ]
  },
  {
   "cell_type": "markdown",
   "id": "binary-encounter",
   "metadata": {},
   "source": [
    "We will apply both of these stationarity tests to the time series to ensure that we can calculate Granger Causality."
   ]
  },
  {
   "cell_type": "code",
   "execution_count": 17,
   "id": "reserved-playing",
   "metadata": {},
   "outputs": [],
   "source": [
    "def get_most_significant_lag(granger_result):\n",
    "    best_lag = 0\n",
    "    min_pval = 1\n",
    "    for lag in granger_result.keys():\n",
    "        pval = granger_result[lag][0][\"ssr_ftest\"][1]\n",
    "        if pval < min_pval:\n",
    "            best_lag = lag\n",
    "            min_pval = pval\n",
    "    return (best_lag, min_pval)"
   ]
  },
  {
   "cell_type": "code",
   "execution_count": 25,
   "id": "roman-laser",
   "metadata": {
    "scrolled": false
   },
   "outputs": [
    {
     "name": "stderr",
     "output_type": "stream",
     "text": [
      "  4%|▍         | 10/254 [00:15<07:11,  1.77s/it]"
     ]
    },
    {
     "name": "stdout",
     "output_type": "stream",
     "text": [
      "48247 failed\n"
     ]
    },
    {
     "name": "stderr",
     "output_type": "stream",
     "text": [
      " 24%|██▎       | 60/254 [01:47<04:13,  1.30s/it]"
     ]
    },
    {
     "name": "stdout",
     "output_type": "stream",
     "text": [
      "48211 death is non-stationary per kpss with pval 0.041666666666652766\n",
      "48211 failed\n"
     ]
    },
    {
     "name": "stderr",
     "output_type": "stream",
     "text": [
      " 28%|██▊       | 71/254 [02:10<04:48,  1.58s/it]"
     ]
    },
    {
     "name": "stdout",
     "output_type": "stream",
     "text": [
      "48137 failed\n"
     ]
    },
    {
     "name": "stderr",
     "output_type": "stream",
     "text": [
      " 34%|███▍      | 86/254 [02:35<03:18,  1.18s/it]"
     ]
    },
    {
     "name": "stdout",
     "output_type": "stream",
     "text": [
      "48385 failed\n"
     ]
    },
    {
     "name": "stderr",
     "output_type": "stream",
     "text": [
      " 36%|███▌      | 91/254 [02:42<03:04,  1.13s/it]"
     ]
    },
    {
     "name": "stdout",
     "output_type": "stream",
     "text": [
      "48345 failed\n"
     ]
    },
    {
     "name": "stderr",
     "output_type": "stream",
     "text": [
      " 38%|███▊      | 97/254 [02:50<02:56,  1.12s/it]"
     ]
    },
    {
     "name": "stdout",
     "output_type": "stream",
     "text": [
      "48377 failed\n"
     ]
    },
    {
     "name": "stderr",
     "output_type": "stream",
     "text": [
      " 48%|████▊     | 123/254 [03:32<02:27,  1.13s/it]"
     ]
    },
    {
     "name": "stdout",
     "output_type": "stream",
     "text": [
      "48229 failed\n"
     ]
    },
    {
     "name": "stderr",
     "output_type": "stream",
     "text": [
      " 56%|█████▌    | 141/254 [04:01<02:09,  1.15s/it]"
     ]
    },
    {
     "name": "stdout",
     "output_type": "stream",
     "text": [
      "48243 failed\n"
     ]
    },
    {
     "name": "stderr",
     "output_type": "stream",
     "text": [
      " 65%|██████▍   | 165/254 [04:47<02:11,  1.47s/it]"
     ]
    },
    {
     "name": "stdout",
     "output_type": "stream",
     "text": [
      "48443 failed\n"
     ]
    },
    {
     "name": "stderr",
     "output_type": "stream",
     "text": [
      " 69%|██████▊   | 174/254 [05:02<01:41,  1.27s/it]"
     ]
    },
    {
     "name": "stdout",
     "output_type": "stream",
     "text": [
      "48039 death is non-stationary per kpss with pval 0.04695650612188601\n",
      "48039 failed\n"
     ]
    },
    {
     "name": "stderr",
     "output_type": "stream",
     "text": [
      " 73%|███████▎  | 186/254 [05:22<01:26,  1.27s/it]"
     ]
    },
    {
     "name": "stdout",
     "output_type": "stream",
     "text": [
      "48421 death is non-stationary per kpss with pval 0.04166666666666828\n",
      "48421 failed\n"
     ]
    },
    {
     "name": "stderr",
     "output_type": "stream",
     "text": [
      " 79%|███████▉  | 201/254 [05:44<00:46,  1.15it/s]"
     ]
    },
    {
     "name": "stdout",
     "output_type": "stream",
     "text": [
      "48301 failed\n",
      "48125 failed\n"
     ]
    },
    {
     "name": "stderr",
     "output_type": "stream",
     "text": [
      " 83%|████████▎ | 210/254 [05:58<00:55,  1.25s/it]"
     ]
    },
    {
     "name": "stdout",
     "output_type": "stream",
     "text": [
      "48269 failed\n"
     ]
    },
    {
     "name": "stderr",
     "output_type": "stream",
     "text": [
      " 84%|████████▍ | 214/254 [06:02<00:31,  1.27it/s]"
     ]
    },
    {
     "name": "stdout",
     "output_type": "stream",
     "text": [
      "48425 access is non-stationary per kpss with pval 0.046231429714796414\n",
      "48425 failed\n",
      "48261 failed\n"
     ]
    },
    {
     "name": "stderr",
     "output_type": "stream",
     "text": [
      "\r",
      " 85%|████████▍ | 215/254 [06:02<00:23,  1.64it/s]"
     ]
    },
    {
     "name": "stdout",
     "output_type": "stream",
     "text": [
      "48033 failed\n"
     ]
    },
    {
     "name": "stderr",
     "output_type": "stream",
     "text": [
      "100%|██████████| 254/254 [07:13<00:00,  1.71s/it]\n"
     ]
    }
   ],
   "source": [
    "import warnings\n",
    "# warnings come from KPSS f stastistic lookup.\n",
    "warnings.filterwarnings(\"ignore\")\n",
    "# the failures seem to be due to constant values\n",
    "# i.e. if access is always zero, there is no\n",
    "# way to calculate this\n",
    "\n",
    "# we to verify that differencing results in stationarity\n",
    "\n",
    "# seems the warnings are gone?\n",
    "#import warnings\n",
    "#warnings.filterwarnings(\"ignore\")\n",
    "# we need to look more deeply into the warnings\n",
    "# the only thing I found was this, which likely doesn't apply:\n",
    "# https://github.com/statsmodels/statsmodels/issues/7218\n",
    "\n",
    "adf_sig = 0.05\n",
    "kpss_sig = 0.05\n",
    "max_lag = 60\n",
    "granger_results = {}\n",
    "for ind in tqdm(access[\"index\"], position=0):\n",
    "    acc_ts = access.loc[access[\"index\"] == ind].copy(deep=True)\n",
    "    assert len(acc_ts) == 1\n",
    "    acc_ts = acc_ts.drop(columns=[\"index\", \"NAME\", \"geometry\"])\n",
    "    acc_ts = acc_ts.T\n",
    "    acc_ts.columns = [\"access\"]\n",
    "    # print(type(acc_ts))\n",
    "    # acc_ts.head()\n",
    "\n",
    "    death_ts = death.loc[death[\"index\"] == ind].copy(deep=True)\n",
    "    assert len(death_ts) == 1\n",
    "    death_ts = death_ts.drop(columns=[\"index\", \"NAME\", \"TSA\", \"geometry\"])\n",
    "    # print(list(death_ts.columns))\n",
    "    death_ts = death_ts.T\n",
    "    death_ts.columns = [\"death\"]\n",
    "    # print(type(death_ts))\n",
    "    # death_ts.head()\n",
    "\n",
    "    # need to make the data stationary\n",
    "    # https://stackoverflow.com/questions/51772493/understanding-output-from-statsmodels-grangercausalitytests\n",
    "    # https://en.wikipedia.org/wiki/Granger_causality#Method\n",
    "    #data = acc_ts.join(death_ts)\n",
    "    #print(len(data))\n",
    "    # second order differencing needed for KPSS to pass on many counties\n",
    "    # https://otexts.com/fpp2/stationarity.html\n",
    "    x = np.diff(acc_ts[\"access\"])[1:]\n",
    "    x = np.diff(x)[1:]\n",
    "    y = np.diff(death_ts[\"death\"])[1:]\n",
    "    y = np.diff(y)[1:]\n",
    "    data = pd.DataFrame({\"access\": x, \"death\": y})\n",
    "    # data.head()\n",
    "    try:\n",
    "        # check for stationarity\n",
    "        pval = adf_test(x)\n",
    "        if pval >= adf_sig:\n",
    "            print(f\"{ind} access is non-stationary per adf with pval {pval}\")\n",
    "            assert False\n",
    "        pval = adf_test(y)\n",
    "        if pval >= adf_sig:\n",
    "            print(f\"{ind} death is non-stationary per adf with pval {pval}\")\n",
    "            assert False\n",
    "        pval = kpss_test(x)\n",
    "        if pval <= kpss_sig:\n",
    "            print(f\"{ind} access is non-stationary per kpss with pval {pval}\")\n",
    "            assert False\n",
    "        pval = kpss_test(y)\n",
    "        if pval <= kpss_sig:\n",
    "            print(f\"{ind} death is non-stationary per kpss with pval {pval}\")\n",
    "            assert False\n",
    "        \n",
    "        result = grangercausalitytests(data, maxlag=max_lag, verbose=False)\n",
    "        lag, pval = get_most_significant_lag(result)\n",
    "        granger_results[ind] = dict()\n",
    "        granger_results[ind][\"lag\"] = lag\n",
    "        granger_results[ind][\"pval\"] = pval\n",
    "    except:\n",
    "        print(f\"{ind} failed\")\n",
    "        granger_results[ind] = dict()\n",
    "        granger_results[ind][\"lag\"] = np.nan\n",
    "        granger_results[ind][\"pval\"] = np.nan"
   ]
  },
  {
   "cell_type": "code",
   "execution_count": 26,
   "id": "impressive-policy",
   "metadata": {},
   "outputs": [
    {
     "data": {
      "text/html": [
       "<div>\n",
       "<style scoped>\n",
       "    .dataframe tbody tr th:only-of-type {\n",
       "        vertical-align: middle;\n",
       "    }\n",
       "\n",
       "    .dataframe tbody tr th {\n",
       "        vertical-align: top;\n",
       "    }\n",
       "\n",
       "    .dataframe thead th {\n",
       "        text-align: right;\n",
       "    }\n",
       "</style>\n",
       "<table border=\"1\" class=\"dataframe\">\n",
       "  <thead>\n",
       "    <tr style=\"text-align: right;\">\n",
       "      <th></th>\n",
       "      <th>index</th>\n",
       "      <th>lag</th>\n",
       "      <th>pvals</th>\n",
       "    </tr>\n",
       "  </thead>\n",
       "  <tbody>\n",
       "    <tr>\n",
       "      <th>0</th>\n",
       "      <td>48327</td>\n",
       "      <td>1.0</td>\n",
       "      <td>9.699208e-01</td>\n",
       "    </tr>\n",
       "    <tr>\n",
       "      <th>1</th>\n",
       "      <td>48189</td>\n",
       "      <td>36.0</td>\n",
       "      <td>4.507060e-53</td>\n",
       "    </tr>\n",
       "    <tr>\n",
       "      <th>2</th>\n",
       "      <td>48011</td>\n",
       "      <td>26.0</td>\n",
       "      <td>1.005592e-09</td>\n",
       "    </tr>\n",
       "    <tr>\n",
       "      <th>3</th>\n",
       "      <td>48057</td>\n",
       "      <td>45.0</td>\n",
       "      <td>6.072516e-02</td>\n",
       "    </tr>\n",
       "    <tr>\n",
       "      <th>4</th>\n",
       "      <td>48077</td>\n",
       "      <td>12.0</td>\n",
       "      <td>4.913610e-04</td>\n",
       "    </tr>\n",
       "  </tbody>\n",
       "</table>\n",
       "</div>"
      ],
      "text/plain": [
       "   index   lag         pvals\n",
       "0  48327   1.0  9.699208e-01\n",
       "1  48189  36.0  4.507060e-53\n",
       "2  48011  26.0  1.005592e-09\n",
       "3  48057  45.0  6.072516e-02\n",
       "4  48077  12.0  4.913610e-04"
      ]
     },
     "execution_count": 26,
     "metadata": {},
     "output_type": "execute_result"
    }
   ],
   "source": [
    "lags = [granger_results[ind][\"lag\"] for ind in access[\"index\"]]\n",
    "pvals = [granger_results[ind][\"pval\"] for ind in access[\"index\"]]\n",
    "result_df = pd.DataFrame({\"index\": access[\"index\"], \"lag\": lags, \"pvals\": pvals})\n",
    "result_df.head()"
   ]
  },
  {
   "cell_type": "code",
   "execution_count": 27,
   "id": "processed-locator",
   "metadata": {},
   "outputs": [
    {
     "data": {
      "text/html": [
       "<div>\n",
       "<style scoped>\n",
       "    .dataframe tbody tr th:only-of-type {\n",
       "        vertical-align: middle;\n",
       "    }\n",
       "\n",
       "    .dataframe tbody tr th {\n",
       "        vertical-align: top;\n",
       "    }\n",
       "\n",
       "    .dataframe thead th {\n",
       "        text-align: right;\n",
       "    }\n",
       "</style>\n",
       "<table border=\"1\" class=\"dataframe\">\n",
       "  <thead>\n",
       "    <tr style=\"text-align: right;\">\n",
       "      <th></th>\n",
       "      <th>index</th>\n",
       "      <th>NAME</th>\n",
       "      <th>06/01/2020</th>\n",
       "      <th>06/02/2020</th>\n",
       "      <th>06/03/2020</th>\n",
       "      <th>06/04/2020</th>\n",
       "      <th>06/05/2020</th>\n",
       "      <th>06/06/2020</th>\n",
       "      <th>06/07/2020</th>\n",
       "      <th>06/08/2020</th>\n",
       "      <th>...</th>\n",
       "      <th>12/25/2021</th>\n",
       "      <th>12/26/2021</th>\n",
       "      <th>12/27/2021</th>\n",
       "      <th>12/28/2021</th>\n",
       "      <th>12/29/2021</th>\n",
       "      <th>12/30/2021</th>\n",
       "      <th>12/31/2021</th>\n",
       "      <th>geometry</th>\n",
       "      <th>lag</th>\n",
       "      <th>pvals</th>\n",
       "    </tr>\n",
       "  </thead>\n",
       "  <tbody>\n",
       "    <tr>\n",
       "      <th>0</th>\n",
       "      <td>48327</td>\n",
       "      <td>Menard</td>\n",
       "      <td>0.481450</td>\n",
       "      <td>0.504673</td>\n",
       "      <td>0.494921</td>\n",
       "      <td>0.359804</td>\n",
       "      <td>0.380861</td>\n",
       "      <td>0.416848</td>\n",
       "      <td>0.445366</td>\n",
       "      <td>0.463968</td>\n",
       "      <td>...</td>\n",
       "      <td>0.057775</td>\n",
       "      <td>0.058969</td>\n",
       "      <td>0.056747</td>\n",
       "      <td>0.050579</td>\n",
       "      <td>0.046795</td>\n",
       "      <td>0.044798</td>\n",
       "      <td>0.042296</td>\n",
       "      <td>POLYGON ((-99.77120 30.71079, -99.78240 30.710...</td>\n",
       "      <td>1.0</td>\n",
       "      <td>9.699208e-01</td>\n",
       "    </tr>\n",
       "    <tr>\n",
       "      <th>1</th>\n",
       "      <td>48189</td>\n",
       "      <td>Hale</td>\n",
       "      <td>2.661175</td>\n",
       "      <td>2.398550</td>\n",
       "      <td>2.288703</td>\n",
       "      <td>0.672046</td>\n",
       "      <td>0.550668</td>\n",
       "      <td>0.580442</td>\n",
       "      <td>0.673039</td>\n",
       "      <td>0.691939</td>\n",
       "      <td>...</td>\n",
       "      <td>0.006247</td>\n",
       "      <td>0.005544</td>\n",
       "      <td>0.004431</td>\n",
       "      <td>0.004738</td>\n",
       "      <td>0.004571</td>\n",
       "      <td>0.004513</td>\n",
       "      <td>0.003913</td>\n",
       "      <td>POLYGON ((-101.73504 33.82864, -101.73507 33.8...</td>\n",
       "      <td>36.0</td>\n",
       "      <td>4.507060e-53</td>\n",
       "    </tr>\n",
       "    <tr>\n",
       "      <th>2</th>\n",
       "      <td>48011</td>\n",
       "      <td>Armstrong</td>\n",
       "      <td>0.008839</td>\n",
       "      <td>0.008874</td>\n",
       "      <td>0.009701</td>\n",
       "      <td>0.009687</td>\n",
       "      <td>0.008540</td>\n",
       "      <td>0.009005</td>\n",
       "      <td>0.009563</td>\n",
       "      <td>0.009912</td>\n",
       "      <td>...</td>\n",
       "      <td>0.002158</td>\n",
       "      <td>0.002462</td>\n",
       "      <td>0.002360</td>\n",
       "      <td>0.002270</td>\n",
       "      <td>0.002396</td>\n",
       "      <td>0.002478</td>\n",
       "      <td>0.002131</td>\n",
       "      <td>POLYGON ((-101.08728 35.02708, -101.08729 35.0...</td>\n",
       "      <td>26.0</td>\n",
       "      <td>1.005592e-09</td>\n",
       "    </tr>\n",
       "    <tr>\n",
       "      <th>3</th>\n",
       "      <td>48057</td>\n",
       "      <td>Calhoun</td>\n",
       "      <td>2.364419</td>\n",
       "      <td>1.663282</td>\n",
       "      <td>1.490708</td>\n",
       "      <td>0.618558</td>\n",
       "      <td>0.560262</td>\n",
       "      <td>0.519041</td>\n",
       "      <td>0.482546</td>\n",
       "      <td>0.417936</td>\n",
       "      <td>...</td>\n",
       "      <td>0.109047</td>\n",
       "      <td>0.109674</td>\n",
       "      <td>0.100102</td>\n",
       "      <td>0.084663</td>\n",
       "      <td>0.076442</td>\n",
       "      <td>0.073078</td>\n",
       "      <td>0.062078</td>\n",
       "      <td>POLYGON ((-96.35229 28.50953, -96.35241 28.508...</td>\n",
       "      <td>45.0</td>\n",
       "      <td>6.072516e-02</td>\n",
       "    </tr>\n",
       "    <tr>\n",
       "      <th>4</th>\n",
       "      <td>48077</td>\n",
       "      <td>Clay</td>\n",
       "      <td>1.756416</td>\n",
       "      <td>1.993939</td>\n",
       "      <td>1.554681</td>\n",
       "      <td>0.504286</td>\n",
       "      <td>0.399408</td>\n",
       "      <td>0.381449</td>\n",
       "      <td>0.362439</td>\n",
       "      <td>0.333911</td>\n",
       "      <td>...</td>\n",
       "      <td>0.003988</td>\n",
       "      <td>0.003731</td>\n",
       "      <td>0.004190</td>\n",
       "      <td>0.003748</td>\n",
       "      <td>0.004242</td>\n",
       "      <td>0.005163</td>\n",
       "      <td>0.004003</td>\n",
       "      <td>POLYGON ((-97.97784 33.81417, -97.97784 33.813...</td>\n",
       "      <td>12.0</td>\n",
       "      <td>4.913610e-04</td>\n",
       "    </tr>\n",
       "  </tbody>\n",
       "</table>\n",
       "<p>5 rows × 584 columns</p>\n",
       "</div>"
      ],
      "text/plain": [
       "   index       NAME  06/01/2020  06/02/2020  06/03/2020  06/04/2020  \\\n",
       "0  48327     Menard    0.481450    0.504673    0.494921    0.359804   \n",
       "1  48189       Hale    2.661175    2.398550    2.288703    0.672046   \n",
       "2  48011  Armstrong    0.008839    0.008874    0.009701    0.009687   \n",
       "3  48057    Calhoun    2.364419    1.663282    1.490708    0.618558   \n",
       "4  48077       Clay    1.756416    1.993939    1.554681    0.504286   \n",
       "\n",
       "   06/05/2020  06/06/2020  06/07/2020  06/08/2020  ...  12/25/2021  \\\n",
       "0    0.380861    0.416848    0.445366    0.463968  ...    0.057775   \n",
       "1    0.550668    0.580442    0.673039    0.691939  ...    0.006247   \n",
       "2    0.008540    0.009005    0.009563    0.009912  ...    0.002158   \n",
       "3    0.560262    0.519041    0.482546    0.417936  ...    0.109047   \n",
       "4    0.399408    0.381449    0.362439    0.333911  ...    0.003988   \n",
       "\n",
       "   12/26/2021  12/27/2021  12/28/2021  12/29/2021  12/30/2021  12/31/2021  \\\n",
       "0    0.058969    0.056747    0.050579    0.046795    0.044798    0.042296   \n",
       "1    0.005544    0.004431    0.004738    0.004571    0.004513    0.003913   \n",
       "2    0.002462    0.002360    0.002270    0.002396    0.002478    0.002131   \n",
       "3    0.109674    0.100102    0.084663    0.076442    0.073078    0.062078   \n",
       "4    0.003731    0.004190    0.003748    0.004242    0.005163    0.004003   \n",
       "\n",
       "                                            geometry   lag         pvals  \n",
       "0  POLYGON ((-99.77120 30.71079, -99.78240 30.710...   1.0  9.699208e-01  \n",
       "1  POLYGON ((-101.73504 33.82864, -101.73507 33.8...  36.0  4.507060e-53  \n",
       "2  POLYGON ((-101.08728 35.02708, -101.08729 35.0...  26.0  1.005592e-09  \n",
       "3  POLYGON ((-96.35229 28.50953, -96.35241 28.508...  45.0  6.072516e-02  \n",
       "4  POLYGON ((-97.97784 33.81417, -97.97784 33.813...  12.0  4.913610e-04  \n",
       "\n",
       "[5 rows x 584 columns]"
      ]
     },
     "execution_count": 27,
     "metadata": {},
     "output_type": "execute_result"
    }
   ],
   "source": [
    "caus = access.copy(deep=True)\n",
    "caus = caus.merge(result_df, on=\"index\")\n",
    "caus.head()"
   ]
  },
  {
   "cell_type": "code",
   "execution_count": 28,
   "id": "straight-michigan",
   "metadata": {},
   "outputs": [
    {
     "data": {
      "text/plain": [
       "<AxesSubplot:>"
      ]
     },
     "execution_count": 28,
     "metadata": {},
     "output_type": "execute_result"
    },
    {
     "data": {
      "image/png": "[encoded data removed]",
      "text/plain": [
       "<Figure size 720x720 with 2 Axes>"
      ]
     },
     "metadata": {
      "needs_background": "light"
     },
     "output_type": "display_data"
    }
   ],
   "source": [
    "caus.plot(column=\"pvals\", figsize=(10, 10), legend=True)"
   ]
  },
  {
   "cell_type": "code",
   "execution_count": 29,
   "id": "white-outline",
   "metadata": {},
   "outputs": [
    {
     "data": {
      "text/plain": [
       "Text(0.5, 1.0, 'Lag with p-value <= 0.01')"
      ]
     },
     "execution_count": 29,
     "metadata": {},
     "output_type": "execute_result"
    },
    {
     "data": {
      "image/png": "[encoded data removed]",
      "text/plain": [
       "<Figure size 720x720 with 2 Axes>"
      ]
     },
     "metadata": {
      "needs_background": "light"
     },
     "output_type": "display_data"
    }
   ],
   "source": [
    "p01 = caus[caus[\"pvals\"] <= 0.01]\n",
    "p01.plot(column=\"lag\", figsize=(10, 10), legend=True)\n",
    "plt.title(\"Lag with p-value <= 0.01\")"
   ]
  },
  {
   "cell_type": "code",
   "execution_count": null,
   "id": "congressional-respondent",
   "metadata": {},
   "outputs": [],
   "source": []
  }
 ],
 "metadata": {
  "kernelspec": {
   "display_name": "Python 3",
   "language": "python",
   "name": "python3"
  },
  "language_info": {
   "codemirror_mode": {
    "name": "ipython",
    "version": 3
   },
   "file_extension": ".py",
   "mimetype": "text/x-python",
   "name": "python",
   "nbconvert_exporter": "python",
   "pygments_lexer": "ipython3",
   "version": "3.8.10"
  }
 },
 "nbformat": 4,
 "nbformat_minor": 5
}
